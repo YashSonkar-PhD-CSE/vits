{
 "cells": [
  {
   "cell_type": "code",
   "execution_count": 4,
   "metadata": {},
   "outputs": [
    {
     "name": "stdout",
     "output_type": "stream",
     "text": [
      "['c:\\\\Programming\\\\IIITH_Courses\\\\CVIT\\\\vits', 'c:\\\\Users\\\\yash7\\\\AppData\\\\Local\\\\Programs\\\\Python\\\\Python311\\\\python311.zip', 'c:\\\\Users\\\\yash7\\\\AppData\\\\Local\\\\Programs\\\\Python\\\\Python311\\\\DLLs', 'c:\\\\Users\\\\yash7\\\\AppData\\\\Local\\\\Programs\\\\Python\\\\Python311\\\\Lib', 'c:\\\\Users\\\\yash7\\\\AppData\\\\Local\\\\Programs\\\\Python\\\\Python311', '', 'C:\\\\Users\\\\yash7\\\\AppData\\\\Roaming\\\\Python\\\\Python311\\\\site-packages', 'C:\\\\Users\\\\yash7\\\\AppData\\\\Roaming\\\\Python\\\\Python311\\\\site-packages\\\\win32', 'C:\\\\Users\\\\yash7\\\\AppData\\\\Roaming\\\\Python\\\\Python311\\\\site-packages\\\\win32\\\\lib', 'C:\\\\Users\\\\yash7\\\\AppData\\\\Roaming\\\\Python\\\\Python311\\\\site-packages\\\\Pythonwin', 'c:\\\\Users\\\\yash7\\\\AppData\\\\Local\\\\Programs\\\\Python\\\\Python311\\\\Lib\\\\site-packages']\n"
     ]
    }
   ],
   "source": [
    "import sys\n",
    "print(sys.path)"
   ]
  },
  {
   "cell_type": "code",
   "execution_count": 1,
   "metadata": {},
   "outputs": [
    {
     "name": "stdout",
     "output_type": "stream",
     "text": [
      "DEBUG:numba.core.byteflow:bytecode dump:\n",
      ">          0\tNOP(arg=None, lineno=1039)\n",
      "           2\tRESUME(arg=0, lineno=1039)\n",
      "           4\tLOAD_FAST(arg=0, lineno=1042)\n",
      "           6\tLOAD_CONST(arg=1, lineno=1042)\n",
      "           8\tBINARY_SUBSCR(arg=None, lineno=1042)\n",
      "          18\tLOAD_FAST(arg=0, lineno=1042)\n",
      "          20\tLOAD_CONST(arg=2, lineno=1042)\n",
      "          22\tBINARY_SUBSCR(arg=None, lineno=1042)\n",
      "          32\tCOMPARE_OP(arg=4, lineno=1042)\n",
      "          38\tLOAD_FAST(arg=0, lineno=1042)\n",
      "          40\tLOAD_CONST(arg=1, lineno=1042)\n",
      "          42\tBINARY_SUBSCR(arg=None, lineno=1042)\n",
      "          52\tLOAD_FAST(arg=0, lineno=1042)\n",
      "          54\tLOAD_CONST(arg=3, lineno=1042)\n",
      "          56\tBINARY_SUBSCR(arg=None, lineno=1042)\n",
      "          66\tCOMPARE_OP(arg=5, lineno=1042)\n",
      "          72\tBINARY_OP(arg=1, lineno=1042)\n",
      "          76\tRETURN_VALUE(arg=None, lineno=1042)\n",
      "DEBUG:numba.core.byteflow:pending: deque([State(pc_initial=0 nstack_initial=0)])\n",
      "DEBUG:numba.core.byteflow:stack: []\n",
      "DEBUG:numba.core.byteflow:state.pc_initial: State(pc_initial=0 nstack_initial=0)\n",
      "DEBUG:numba.core.byteflow:dispatch pc=0, inst=NOP(arg=None, lineno=1039)\n",
      "DEBUG:numba.core.byteflow:stack []\n",
      "DEBUG:numba.core.byteflow:dispatch pc=2, inst=RESUME(arg=0, lineno=1039)\n",
      "DEBUG:numba.core.byteflow:stack []\n",
      "DEBUG:numba.core.byteflow:dispatch pc=4, inst=LOAD_FAST(arg=0, lineno=1042)\n",
      "DEBUG:numba.core.byteflow:stack []\n",
      "DEBUG:numba.core.byteflow:dispatch pc=6, inst=LOAD_CONST(arg=1, lineno=1042)\n",
      "DEBUG:numba.core.byteflow:stack ['$x4.0']\n",
      "DEBUG:numba.core.byteflow:dispatch pc=8, inst=BINARY_SUBSCR(arg=None, lineno=1042)\n",
      "DEBUG:numba.core.byteflow:stack ['$x4.0', '$const6.1']\n",
      "DEBUG:numba.core.byteflow:dispatch pc=18, inst=LOAD_FAST(arg=0, lineno=1042)\n",
      "DEBUG:numba.core.byteflow:stack ['$8binary_subscr.2']\n",
      "DEBUG:numba.core.byteflow:dispatch pc=20, inst=LOAD_CONST(arg=2, lineno=1042)\n",
      "DEBUG:numba.core.byteflow:stack ['$8binary_subscr.2', '$x18.3']\n",
      "DEBUG:numba.core.byteflow:dispatch pc=22, inst=BINARY_SUBSCR(arg=None, lineno=1042)\n",
      "DEBUG:numba.core.byteflow:stack ['$8binary_subscr.2', '$x18.3', '$const20.4']\n",
      "DEBUG:numba.core.byteflow:dispatch pc=32, inst=COMPARE_OP(arg=4, lineno=1042)\n",
      "DEBUG:numba.core.byteflow:stack ['$8binary_subscr.2', '$22binary_subscr.5']\n",
      "DEBUG:numba.core.byteflow:dispatch pc=38, inst=LOAD_FAST(arg=0, lineno=1042)\n",
      "DEBUG:numba.core.byteflow:stack ['$32compare_op.6']\n",
      "DEBUG:numba.core.byteflow:dispatch pc=40, inst=LOAD_CONST(arg=1, lineno=1042)\n",
      "DEBUG:numba.core.byteflow:stack ['$32compare_op.6', '$x38.7']\n",
      "DEBUG:numba.core.byteflow:dispatch pc=42, inst=BINARY_SUBSCR(arg=None, lineno=1042)\n",
      "DEBUG:numba.core.byteflow:stack ['$32compare_op.6', '$x38.7', '$const40.8']\n",
      "DEBUG:numba.core.byteflow:dispatch pc=52, inst=LOAD_FAST(arg=0, lineno=1042)\n",
      "DEBUG:numba.core.byteflow:stack ['$32compare_op.6', '$42binary_subscr.9']\n",
      "DEBUG:numba.core.byteflow:dispatch pc=54, inst=LOAD_CONST(arg=3, lineno=1042)\n",
      "DEBUG:numba.core.byteflow:stack ['$32compare_op.6', '$42binary_subscr.9', '$x52.10']\n",
      "DEBUG:numba.core.byteflow:dispatch pc=56, inst=BINARY_SUBSCR(arg=None, lineno=1042)\n",
      "DEBUG:numba.core.byteflow:stack ['$32compare_op.6', '$42binary_subscr.9', '$x52.10', '$const54.11']\n",
      "DEBUG:numba.core.byteflow:dispatch pc=66, inst=COMPARE_OP(arg=5, lineno=1042)\n",
      "DEBUG:numba.core.byteflow:stack ['$32compare_op.6', '$42binary_subscr.9', '$56binary_subscr.12']\n",
      "DEBUG:numba.core.byteflow:dispatch pc=72, inst=BINARY_OP(arg=1, lineno=1042)\n",
      "DEBUG:numba.core.byteflow:stack ['$32compare_op.6', '$66compare_op.13']\n",
      "DEBUG:numba.core.byteflow:dispatch pc=76, inst=RETURN_VALUE(arg=None, lineno=1042)\n",
      "DEBUG:numba.core.byteflow:stack ['$binop_and_72.14']\n",
      "DEBUG:numba.core.byteflow:end state. edges=[]\n",
      "DEBUG:numba.core.byteflow:-------------------------Prune PHIs-------------------------\n",
      "DEBUG:numba.core.byteflow:Used_phis: defaultdict(<class 'set'>, {State(pc_initial=0 nstack_initial=0): set()})\n",
      "DEBUG:numba.core.byteflow:defmap: {}\n",
      "DEBUG:numba.core.byteflow:phismap: defaultdict(<class 'set'>, {})\n",
      "DEBUG:numba.core.byteflow:changing phismap: defaultdict(<class 'set'>, {})\n",
      "DEBUG:numba.core.byteflow:keep phismap: {}\n",
      "DEBUG:numba.core.byteflow:new_out: defaultdict(<class 'dict'>, {})\n",
      "DEBUG:numba.core.byteflow:----------------------DONE Prune PHIs-----------------------\n",
      "DEBUG:numba.core.byteflow:block_infos State(pc_initial=0 nstack_initial=0):\n",
      "AdaptBlockInfo(insts=((0, {}), (2, {}), (4, {'res': '$x4.0'}), (6, {'res': '$const6.1'}), (8, {'index': '$const6.1', 'target': '$x4.0', 'res': '$8binary_subscr.2'}), (10, {}), (12, {}), (14, {}), (16, {}), (18, {'res': '$x18.3'}), (20, {'res': '$const20.4'}), (22, {'index': '$const20.4', 'target': '$x18.3', 'res': '$22binary_subscr.5'}), (24, {}), (26, {}), (28, {}), (30, {}), (32, {'lhs': '$8binary_subscr.2', 'rhs': '$22binary_subscr.5', 'res': '$32compare_op.6'}), (34, {}), (36, {}), (38, {'res': '$x38.7'}), (40, {'res': '$const40.8'}), (42, {'index': '$const40.8', 'target': '$x38.7', 'res': '$42binary_subscr.9'}), (44, {}), (46, {}), (48, {}), (50, {}), (52, {'res': '$x52.10'}), (54, {'res': '$const54.11'}), (56, {'index': '$const54.11', 'target': '$x52.10', 'res': '$56binary_subscr.12'}), (58, {}), (60, {}), (62, {}), (64, {}), (66, {'lhs': '$42binary_subscr.9', 'rhs': '$56binary_subscr.12', 'res': '$66compare_op.13'}), (68, {}), (70, {}), (72, {'op': '&', 'lhs': '$32compare_op.6', 'rhs': '$66compare_op.13', 'res': '$binop_and_72.14'}), (74, {}), (76, {'retval': '$binop_and_72.14', 'castval': '$76return_value.15'})), outgoing_phis={}, blockstack=(), active_try_block=None, outgoing_edgepushed={})\n",
      "DEBUG:numba.core.interpreter:label 0:\n",
      "    x = arg(0, name=x)                       ['x']\n",
      "    $const6.1 = const(int, 0)                ['$const6.1']\n",
      "    $8binary_subscr.2 = getitem(value=x, index=$const6.1, fn=<built-in function getitem>) ['$8binary_subscr.2', '$const6.1', 'x']\n",
      "    $const20.4 = const(int, -1)              ['$const20.4']\n",
      "    $22binary_subscr.5 = getitem(value=x, index=$const20.4, fn=<built-in function getitem>) ['$22binary_subscr.5', '$const20.4', 'x']\n",
      "    $32compare_op.6 = $8binary_subscr.2 > $22binary_subscr.5 ['$22binary_subscr.5', '$32compare_op.6', '$8binary_subscr.2']\n",
      "    $const40.8 = const(int, 0)               ['$const40.8']\n",
      "    $42binary_subscr.9 = getitem(value=x, index=$const40.8, fn=<built-in function getitem>) ['$42binary_subscr.9', '$const40.8', 'x']\n",
      "    $const54.11 = const(int, 1)              ['$const54.11']\n",
      "    $56binary_subscr.12 = getitem(value=x, index=$const54.11, fn=<built-in function getitem>) ['$56binary_subscr.12', '$const54.11', 'x']\n",
      "    $66compare_op.13 = $42binary_subscr.9 >= $56binary_subscr.12 ['$42binary_subscr.9', '$56binary_subscr.12', '$66compare_op.13']\n",
      "    $binop_and_72.14 = $32compare_op.6 & $66compare_op.13 ['$32compare_op.6', '$66compare_op.13', '$binop_and_72.14']\n",
      "    $76return_value.15 = cast(value=$binop_and_72.14) ['$76return_value.15', '$binop_and_72.14']\n",
      "    return $76return_value.15                ['$76return_value.15']\n",
      "\n",
      "DEBUG:numba.core.byteflow:bytecode dump:\n",
      ">          0\tNOP(arg=None, lineno=1045)\n",
      "           2\tRESUME(arg=0, lineno=1045)\n",
      "           4\tLOAD_FAST(arg=0, lineno=1048)\n",
      "           6\tLOAD_CONST(arg=1, lineno=1048)\n",
      "           8\tBINARY_SUBSCR(arg=None, lineno=1048)\n",
      "          18\tLOAD_FAST(arg=0, lineno=1048)\n",
      "          20\tLOAD_CONST(arg=2, lineno=1048)\n",
      "          22\tBINARY_SUBSCR(arg=None, lineno=1048)\n",
      "          32\tCOMPARE_OP(arg=0, lineno=1048)\n",
      "          38\tLOAD_FAST(arg=0, lineno=1048)\n",
      "          40\tLOAD_CONST(arg=1, lineno=1048)\n",
      "          42\tBINARY_SUBSCR(arg=None, lineno=1048)\n",
      "          52\tLOAD_FAST(arg=0, lineno=1048)\n",
      "          54\tLOAD_CONST(arg=3, lineno=1048)\n",
      "          56\tBINARY_SUBSCR(arg=None, lineno=1048)\n",
      "          66\tCOMPARE_OP(arg=1, lineno=1048)\n",
      "          72\tBINARY_OP(arg=1, lineno=1048)\n",
      "          76\tRETURN_VALUE(arg=None, lineno=1048)\n",
      "DEBUG:numba.core.byteflow:pending: deque([State(pc_initial=0 nstack_initial=0)])\n",
      "DEBUG:numba.core.byteflow:stack: []\n",
      "DEBUG:numba.core.byteflow:state.pc_initial: State(pc_initial=0 nstack_initial=0)\n",
      "DEBUG:numba.core.byteflow:dispatch pc=0, inst=NOP(arg=None, lineno=1045)\n",
      "DEBUG:numba.core.byteflow:stack []\n",
      "DEBUG:numba.core.byteflow:dispatch pc=2, inst=RESUME(arg=0, lineno=1045)\n",
      "DEBUG:numba.core.byteflow:stack []\n",
      "DEBUG:numba.core.byteflow:dispatch pc=4, inst=LOAD_FAST(arg=0, lineno=1048)\n",
      "DEBUG:numba.core.byteflow:stack []\n",
      "DEBUG:numba.core.byteflow:dispatch pc=6, inst=LOAD_CONST(arg=1, lineno=1048)\n",
      "DEBUG:numba.core.byteflow:stack ['$x4.0']\n",
      "DEBUG:numba.core.byteflow:dispatch pc=8, inst=BINARY_SUBSCR(arg=None, lineno=1048)\n",
      "DEBUG:numba.core.byteflow:stack ['$x4.0', '$const6.1']\n",
      "DEBUG:numba.core.byteflow:dispatch pc=18, inst=LOAD_FAST(arg=0, lineno=1048)\n",
      "DEBUG:numba.core.byteflow:stack ['$8binary_subscr.2']\n",
      "DEBUG:numba.core.byteflow:dispatch pc=20, inst=LOAD_CONST(arg=2, lineno=1048)\n",
      "DEBUG:numba.core.byteflow:stack ['$8binary_subscr.2', '$x18.3']\n",
      "DEBUG:numba.core.byteflow:dispatch pc=22, inst=BINARY_SUBSCR(arg=None, lineno=1048)\n",
      "DEBUG:numba.core.byteflow:stack ['$8binary_subscr.2', '$x18.3', '$const20.4']\n",
      "DEBUG:numba.core.byteflow:dispatch pc=32, inst=COMPARE_OP(arg=0, lineno=1048)\n",
      "DEBUG:numba.core.byteflow:stack ['$8binary_subscr.2', '$22binary_subscr.5']\n",
      "DEBUG:numba.core.byteflow:dispatch pc=38, inst=LOAD_FAST(arg=0, lineno=1048)\n",
      "DEBUG:numba.core.byteflow:stack ['$32compare_op.6']\n",
      "DEBUG:numba.core.byteflow:dispatch pc=40, inst=LOAD_CONST(arg=1, lineno=1048)\n",
      "DEBUG:numba.core.byteflow:stack ['$32compare_op.6', '$x38.7']\n",
      "DEBUG:numba.core.byteflow:dispatch pc=42, inst=BINARY_SUBSCR(arg=None, lineno=1048)\n",
      "DEBUG:numba.core.byteflow:stack ['$32compare_op.6', '$x38.7', '$const40.8']\n",
      "DEBUG:numba.core.byteflow:dispatch pc=52, inst=LOAD_FAST(arg=0, lineno=1048)\n",
      "DEBUG:numba.core.byteflow:stack ['$32compare_op.6', '$42binary_subscr.9']\n",
      "DEBUG:numba.core.byteflow:dispatch pc=54, inst=LOAD_CONST(arg=3, lineno=1048)\n",
      "DEBUG:numba.core.byteflow:stack ['$32compare_op.6', '$42binary_subscr.9', '$x52.10']\n",
      "DEBUG:numba.core.byteflow:dispatch pc=56, inst=BINARY_SUBSCR(arg=None, lineno=1048)\n",
      "DEBUG:numba.core.byteflow:stack ['$32compare_op.6', '$42binary_subscr.9', '$x52.10', '$const54.11']\n",
      "DEBUG:numba.core.byteflow:dispatch pc=66, inst=COMPARE_OP(arg=1, lineno=1048)\n",
      "DEBUG:numba.core.byteflow:stack ['$32compare_op.6', '$42binary_subscr.9', '$56binary_subscr.12']\n",
      "DEBUG:numba.core.byteflow:dispatch pc=72, inst=BINARY_OP(arg=1, lineno=1048)\n",
      "DEBUG:numba.core.byteflow:stack ['$32compare_op.6', '$66compare_op.13']\n",
      "DEBUG:numba.core.byteflow:dispatch pc=76, inst=RETURN_VALUE(arg=None, lineno=1048)\n",
      "DEBUG:numba.core.byteflow:stack ['$binop_and_72.14']\n",
      "DEBUG:numba.core.byteflow:end state. edges=[]\n",
      "DEBUG:numba.core.byteflow:-------------------------Prune PHIs-------------------------\n",
      "DEBUG:numba.core.byteflow:Used_phis: defaultdict(<class 'set'>, {State(pc_initial=0 nstack_initial=0): set()})\n",
      "DEBUG:numba.core.byteflow:defmap: {}\n",
      "DEBUG:numba.core.byteflow:phismap: defaultdict(<class 'set'>, {})\n",
      "DEBUG:numba.core.byteflow:changing phismap: defaultdict(<class 'set'>, {})\n",
      "DEBUG:numba.core.byteflow:keep phismap: {}\n",
      "DEBUG:numba.core.byteflow:new_out: defaultdict(<class 'dict'>, {})\n",
      "DEBUG:numba.core.byteflow:----------------------DONE Prune PHIs-----------------------\n",
      "DEBUG:numba.core.byteflow:block_infos State(pc_initial=0 nstack_initial=0):\n",
      "AdaptBlockInfo(insts=((0, {}), (2, {}), (4, {'res': '$x4.0'}), (6, {'res': '$const6.1'}), (8, {'index': '$const6.1', 'target': '$x4.0', 'res': '$8binary_subscr.2'}), (10, {}), (12, {}), (14, {}), (16, {}), (18, {'res': '$x18.3'}), (20, {'res': '$const20.4'}), (22, {'index': '$const20.4', 'target': '$x18.3', 'res': '$22binary_subscr.5'}), (24, {}), (26, {}), (28, {}), (30, {}), (32, {'lhs': '$8binary_subscr.2', 'rhs': '$22binary_subscr.5', 'res': '$32compare_op.6'}), (34, {}), (36, {}), (38, {'res': '$x38.7'}), (40, {'res': '$const40.8'}), (42, {'index': '$const40.8', 'target': '$x38.7', 'res': '$42binary_subscr.9'}), (44, {}), (46, {}), (48, {}), (50, {}), (52, {'res': '$x52.10'}), (54, {'res': '$const54.11'}), (56, {'index': '$const54.11', 'target': '$x52.10', 'res': '$56binary_subscr.12'}), (58, {}), (60, {}), (62, {}), (64, {}), (66, {'lhs': '$42binary_subscr.9', 'rhs': '$56binary_subscr.12', 'res': '$66compare_op.13'}), (68, {}), (70, {}), (72, {'op': '&', 'lhs': '$32compare_op.6', 'rhs': '$66compare_op.13', 'res': '$binop_and_72.14'}), (74, {}), (76, {'retval': '$binop_and_72.14', 'castval': '$76return_value.15'})), outgoing_phis={}, blockstack=(), active_try_block=None, outgoing_edgepushed={})\n",
      "DEBUG:numba.core.interpreter:label 0:\n",
      "    x = arg(0, name=x)                       ['x']\n",
      "    $const6.1 = const(int, 0)                ['$const6.1']\n",
      "    $8binary_subscr.2 = getitem(value=x, index=$const6.1, fn=<built-in function getitem>) ['$8binary_subscr.2', '$const6.1', 'x']\n",
      "    $const20.4 = const(int, -1)              ['$const20.4']\n",
      "    $22binary_subscr.5 = getitem(value=x, index=$const20.4, fn=<built-in function getitem>) ['$22binary_subscr.5', '$const20.4', 'x']\n",
      "    $32compare_op.6 = $8binary_subscr.2 < $22binary_subscr.5 ['$22binary_subscr.5', '$32compare_op.6', '$8binary_subscr.2']\n",
      "    $const40.8 = const(int, 0)               ['$const40.8']\n",
      "    $42binary_subscr.9 = getitem(value=x, index=$const40.8, fn=<built-in function getitem>) ['$42binary_subscr.9', '$const40.8', 'x']\n",
      "    $const54.11 = const(int, 1)              ['$const54.11']\n",
      "    $56binary_subscr.12 = getitem(value=x, index=$const54.11, fn=<built-in function getitem>) ['$56binary_subscr.12', '$const54.11', 'x']\n",
      "    $66compare_op.13 = $42binary_subscr.9 <= $56binary_subscr.12 ['$42binary_subscr.9', '$56binary_subscr.12', '$66compare_op.13']\n",
      "    $binop_and_72.14 = $32compare_op.6 & $66compare_op.13 ['$32compare_op.6', '$66compare_op.13', '$binop_and_72.14']\n",
      "    $76return_value.15 = cast(value=$binop_and_72.14) ['$76return_value.15', '$binop_and_72.14']\n",
      "    return $76return_value.15                ['$76return_value.15']\n",
      "\n"
     ]
    }
   ],
   "source": [
    "%matplotlib inline\n",
    "import matplotlib.pyplot as plt\n",
    "import IPython.display as ipd\n",
    "\n",
    "import os\n",
    "import json\n",
    "import math\n",
    "import torch\n",
    "from torch import nn\n",
    "from torch.nn import functional as F\n",
    "from torch.utils.data import DataLoader\n",
    "\n",
    "import commons\n",
    "import utils\n",
    "from data_utils import TextAudioLoader, TextAudioCollate, TextAudioSpeakerLoader, TextAudioSpeakerCollate\n",
    "from models import SynthesizerTrn\n",
    "from text.symbols import symbols\n",
    "from text import text_to_sequence\n",
    "\n",
    "from scipy.io.wavfile import write\n",
    "\n",
    "\n",
    "def get_text(text, hps):\n",
    "    text_norm = text_to_sequence(text, hps.data.text_cleaners)\n",
    "    if hps.data.add_blank:\n",
    "        text_norm = commons.intersperse(text_norm, 0)\n",
    "    text_norm = torch.LongTensor(text_norm)\n",
    "    return text_norm"
   ]
  },
  {
   "cell_type": "markdown",
   "metadata": {},
   "source": [
    "## LJ Speech"
   ]
  },
  {
   "cell_type": "code",
   "execution_count": 2,
   "metadata": {},
   "outputs": [],
   "source": [
    "hps = utils.get_hparams_from_file(\"./configs/ljs_base.json\")"
   ]
  },
  {
   "cell_type": "code",
   "execution_count": 3,
   "metadata": {},
   "outputs": [
    {
     "name": "stderr",
     "output_type": "stream",
     "text": [
      "c:\\Users\\yash7\\AppData\\Local\\Programs\\Python\\Python311\\Lib\\site-packages\\torch\\nn\\utils\\weight_norm.py:143: FutureWarning: `torch.nn.utils.weight_norm` is deprecated in favor of `torch.nn.utils.parametrizations.weight_norm`.\n",
      "  WeightNorm.apply(module, name, dim)\n"
     ]
    },
    {
     "name": "stdout",
     "output_type": "stream",
     "text": [
      "INFO:root:Loaded checkpoint './G_141000.pth' (iteration 180)\n"
     ]
    }
   ],
   "source": [
    "net_g = SynthesizerTrn(\n",
    "    len(symbols),\n",
    "    hps.data.filter_length // 2 + 1,\n",
    "    hps.train.segment_size // hps.data.hop_length,\n",
    "    **hps.model).cuda()\n",
    "_ = net_g.eval()\n",
    "\n",
    "_ = utils.load_checkpoint(\"./G_141000.pth\", net_g, None)"
   ]
  },
  {
   "cell_type": "code",
   "execution_count": 4,
   "metadata": {},
   "outputs": [
    {
     "ename": "RuntimeError",
     "evalue": "espeak not installed on your system",
     "output_type": "error",
     "traceback": [
      "\u001b[1;31m---------------------------------------------------------------------------\u001b[0m",
      "\u001b[1;31mRuntimeError\u001b[0m                              Traceback (most recent call last)",
      "Cell \u001b[1;32mIn[4], line 1\u001b[0m\n\u001b[1;32m----> 1\u001b[0m stn_tst \u001b[38;5;241m=\u001b[39m \u001b[43mget_text\u001b[49m\u001b[43m(\u001b[49m\u001b[38;5;124;43m\"\u001b[39;49m\u001b[38;5;124;43mVITS is Awesome!\u001b[39;49m\u001b[38;5;124;43m\"\u001b[39;49m\u001b[43m,\u001b[49m\u001b[43m \u001b[49m\u001b[43mhps\u001b[49m\u001b[43m)\u001b[49m\n\u001b[0;32m      2\u001b[0m \u001b[38;5;28;01mwith\u001b[39;00m torch\u001b[38;5;241m.\u001b[39mno_grad():\n\u001b[0;32m      3\u001b[0m     x_tst \u001b[38;5;241m=\u001b[39m stn_tst\u001b[38;5;241m.\u001b[39mcuda()\u001b[38;5;241m.\u001b[39munsqueeze(\u001b[38;5;241m0\u001b[39m)\n",
      "Cell \u001b[1;32mIn[1], line 24\u001b[0m, in \u001b[0;36mget_text\u001b[1;34m(text, hps)\u001b[0m\n\u001b[0;32m     23\u001b[0m \u001b[38;5;28;01mdef\u001b[39;00m \u001b[38;5;21mget_text\u001b[39m(text, hps):\n\u001b[1;32m---> 24\u001b[0m     text_norm \u001b[38;5;241m=\u001b[39m \u001b[43mtext_to_sequence\u001b[49m\u001b[43m(\u001b[49m\u001b[43mtext\u001b[49m\u001b[43m,\u001b[49m\u001b[43m \u001b[49m\u001b[43mhps\u001b[49m\u001b[38;5;241;43m.\u001b[39;49m\u001b[43mdata\u001b[49m\u001b[38;5;241;43m.\u001b[39;49m\u001b[43mtext_cleaners\u001b[49m\u001b[43m)\u001b[49m\n\u001b[0;32m     25\u001b[0m     \u001b[38;5;28;01mif\u001b[39;00m hps\u001b[38;5;241m.\u001b[39mdata\u001b[38;5;241m.\u001b[39madd_blank:\n\u001b[0;32m     26\u001b[0m         text_norm \u001b[38;5;241m=\u001b[39m commons\u001b[38;5;241m.\u001b[39mintersperse(text_norm, \u001b[38;5;241m0\u001b[39m)\n",
      "File \u001b[1;32mc:\\Programming\\IIITH_Courses\\CVIT\\vits\\text\\__init__.py:21\u001b[0m, in \u001b[0;36mtext_to_sequence\u001b[1;34m(text, cleaner_names)\u001b[0m\n\u001b[0;32m     12\u001b[0m \u001b[38;5;250m\u001b[39m\u001b[38;5;124;03m'''Converts a string of text to a sequence of IDs corresponding to the symbols in the text.\u001b[39;00m\n\u001b[0;32m     13\u001b[0m \u001b[38;5;124;03m  Args:\u001b[39;00m\n\u001b[0;32m     14\u001b[0m \u001b[38;5;124;03m    text: string to convert to a sequence\u001b[39;00m\n\u001b[1;32m   (...)\u001b[0m\n\u001b[0;32m     17\u001b[0m \u001b[38;5;124;03m    List of integers corresponding to the symbols in the text\u001b[39;00m\n\u001b[0;32m     18\u001b[0m \u001b[38;5;124;03m'''\u001b[39;00m\n\u001b[0;32m     19\u001b[0m sequence \u001b[38;5;241m=\u001b[39m []\n\u001b[1;32m---> 21\u001b[0m clean_text \u001b[38;5;241m=\u001b[39m \u001b[43m_clean_text\u001b[49m\u001b[43m(\u001b[49m\u001b[43mtext\u001b[49m\u001b[43m,\u001b[49m\u001b[43m \u001b[49m\u001b[43mcleaner_names\u001b[49m\u001b[43m)\u001b[49m\n\u001b[0;32m     22\u001b[0m \u001b[38;5;28;01mfor\u001b[39;00m symbol \u001b[38;5;129;01min\u001b[39;00m clean_text:\n\u001b[0;32m     23\u001b[0m   symbol_id \u001b[38;5;241m=\u001b[39m _symbol_to_id[symbol]\n",
      "File \u001b[1;32mc:\\Programming\\IIITH_Courses\\CVIT\\vits\\text\\__init__.py:53\u001b[0m, in \u001b[0;36m_clean_text\u001b[1;34m(text, cleaner_names)\u001b[0m\n\u001b[0;32m     51\u001b[0m   \u001b[38;5;28;01mif\u001b[39;00m \u001b[38;5;129;01mnot\u001b[39;00m cleaner:\n\u001b[0;32m     52\u001b[0m     \u001b[38;5;28;01mraise\u001b[39;00m \u001b[38;5;167;01mException\u001b[39;00m(\u001b[38;5;124m'\u001b[39m\u001b[38;5;124mUnknown cleaner: \u001b[39m\u001b[38;5;132;01m%s\u001b[39;00m\u001b[38;5;124m'\u001b[39m \u001b[38;5;241m%\u001b[39m name)\n\u001b[1;32m---> 53\u001b[0m   text \u001b[38;5;241m=\u001b[39m \u001b[43mcleaner\u001b[49m\u001b[43m(\u001b[49m\u001b[43mtext\u001b[49m\u001b[43m)\u001b[49m\n\u001b[0;32m     54\u001b[0m \u001b[38;5;28;01mreturn\u001b[39;00m text\n",
      "File \u001b[1;32mc:\\Programming\\IIITH_Courses\\CVIT\\vits\\text\\cleaners.py:98\u001b[0m, in \u001b[0;36menglish_cleaners2\u001b[1;34m(text)\u001b[0m\n\u001b[0;32m     96\u001b[0m text \u001b[38;5;241m=\u001b[39m lowercase(text)\n\u001b[0;32m     97\u001b[0m text \u001b[38;5;241m=\u001b[39m expand_abbreviations(text)\n\u001b[1;32m---> 98\u001b[0m phonemes \u001b[38;5;241m=\u001b[39m \u001b[43mphonemize\u001b[49m\u001b[43m(\u001b[49m\u001b[43mtext\u001b[49m\u001b[43m,\u001b[49m\u001b[43m \u001b[49m\u001b[43mlanguage\u001b[49m\u001b[38;5;241;43m=\u001b[39;49m\u001b[38;5;124;43m'\u001b[39;49m\u001b[38;5;124;43men-us\u001b[39;49m\u001b[38;5;124;43m'\u001b[39;49m\u001b[43m,\u001b[49m\u001b[43m \u001b[49m\u001b[43mbackend\u001b[49m\u001b[38;5;241;43m=\u001b[39;49m\u001b[38;5;124;43m'\u001b[39;49m\u001b[38;5;124;43mespeak\u001b[39;49m\u001b[38;5;124;43m'\u001b[39;49m\u001b[43m,\u001b[49m\u001b[43m \u001b[49m\u001b[43mstrip\u001b[49m\u001b[38;5;241;43m=\u001b[39;49m\u001b[38;5;28;43;01mTrue\u001b[39;49;00m\u001b[43m,\u001b[49m\u001b[43m \u001b[49m\u001b[43mpreserve_punctuation\u001b[49m\u001b[38;5;241;43m=\u001b[39;49m\u001b[38;5;28;43;01mTrue\u001b[39;49;00m\u001b[43m,\u001b[49m\u001b[43m \u001b[49m\u001b[43mwith_stress\u001b[49m\u001b[38;5;241;43m=\u001b[39;49m\u001b[38;5;28;43;01mTrue\u001b[39;49;00m\u001b[43m)\u001b[49m\n\u001b[0;32m     99\u001b[0m phonemes \u001b[38;5;241m=\u001b[39m collapse_whitespace(phonemes)\n\u001b[0;32m    100\u001b[0m \u001b[38;5;28;01mreturn\u001b[39;00m phonemes\n",
      "File \u001b[1;32mc:\\Users\\yash7\\AppData\\Local\\Programs\\Python\\Python311\\Lib\\site-packages\\phonemizer\\phonemize.py:206\u001b[0m, in \u001b[0;36mphonemize\u001b[1;34m(text, language, backend, separator, strip, prepend_text, preserve_empty_lines, preserve_punctuation, punctuation_marks, with_stress, tie, language_switch, words_mismatch, njobs, logger)\u001b[0m\n\u001b[0;32m    204\u001b[0m \u001b[38;5;66;03m# initialize the phonemization backend\u001b[39;00m\n\u001b[0;32m    205\u001b[0m \u001b[38;5;28;01mif\u001b[39;00m backend \u001b[38;5;241m==\u001b[39m \u001b[38;5;124m'\u001b[39m\u001b[38;5;124mespeak\u001b[39m\u001b[38;5;124m'\u001b[39m:\n\u001b[1;32m--> 206\u001b[0m     phonemizer \u001b[38;5;241m=\u001b[39m \u001b[43mBACKENDS\u001b[49m\u001b[43m[\u001b[49m\u001b[43mbackend\u001b[49m\u001b[43m]\u001b[49m\u001b[43m(\u001b[49m\n\u001b[0;32m    207\u001b[0m \u001b[43m        \u001b[49m\u001b[43mlanguage\u001b[49m\u001b[43m,\u001b[49m\n\u001b[0;32m    208\u001b[0m \u001b[43m        \u001b[49m\u001b[43mpunctuation_marks\u001b[49m\u001b[38;5;241;43m=\u001b[39;49m\u001b[43mpunctuation_marks\u001b[49m\u001b[43m,\u001b[49m\n\u001b[0;32m    209\u001b[0m \u001b[43m        \u001b[49m\u001b[43mpreserve_punctuation\u001b[49m\u001b[38;5;241;43m=\u001b[39;49m\u001b[43mpreserve_punctuation\u001b[49m\u001b[43m,\u001b[49m\n\u001b[0;32m    210\u001b[0m \u001b[43m        \u001b[49m\u001b[43mwith_stress\u001b[49m\u001b[38;5;241;43m=\u001b[39;49m\u001b[43mwith_stress\u001b[49m\u001b[43m,\u001b[49m\n\u001b[0;32m    211\u001b[0m \u001b[43m        \u001b[49m\u001b[43mtie\u001b[49m\u001b[38;5;241;43m=\u001b[39;49m\u001b[43mtie\u001b[49m\u001b[43m,\u001b[49m\n\u001b[0;32m    212\u001b[0m \u001b[43m        \u001b[49m\u001b[43mlanguage_switch\u001b[49m\u001b[38;5;241;43m=\u001b[39;49m\u001b[43mlanguage_switch\u001b[49m\u001b[43m,\u001b[49m\n\u001b[0;32m    213\u001b[0m \u001b[43m        \u001b[49m\u001b[43mwords_mismatch\u001b[49m\u001b[38;5;241;43m=\u001b[39;49m\u001b[43mwords_mismatch\u001b[49m\u001b[43m,\u001b[49m\n\u001b[0;32m    214\u001b[0m \u001b[43m        \u001b[49m\u001b[43mlogger\u001b[49m\u001b[38;5;241;43m=\u001b[39;49m\u001b[43mlogger\u001b[49m\u001b[43m)\u001b[49m\n\u001b[0;32m    215\u001b[0m \u001b[38;5;28;01melif\u001b[39;00m backend \u001b[38;5;241m==\u001b[39m \u001b[38;5;124m'\u001b[39m\u001b[38;5;124mespeak-mbrola\u001b[39m\u001b[38;5;124m'\u001b[39m:\n\u001b[0;32m    216\u001b[0m     phonemizer \u001b[38;5;241m=\u001b[39m BACKENDS[backend](\n\u001b[0;32m    217\u001b[0m         language,\n\u001b[0;32m    218\u001b[0m         logger\u001b[38;5;241m=\u001b[39mlogger)\n",
      "File \u001b[1;32mc:\\Users\\yash7\\AppData\\Local\\Programs\\Python\\Python311\\Lib\\site-packages\\phonemizer\\backend\\espeak\\espeak.py:45\u001b[0m, in \u001b[0;36mEspeakBackend.__init__\u001b[1;34m(self, language, punctuation_marks, preserve_punctuation, with_stress, tie, language_switch, words_mismatch, logger)\u001b[0m\n\u001b[0;32m     37\u001b[0m \u001b[38;5;28;01mdef\u001b[39;00m \u001b[38;5;21m__init__\u001b[39m(\u001b[38;5;28mself\u001b[39m, language: \u001b[38;5;28mstr\u001b[39m,\n\u001b[0;32m     38\u001b[0m              punctuation_marks: Optional[Union[\u001b[38;5;28mstr\u001b[39m, Pattern]] \u001b[38;5;241m=\u001b[39m \u001b[38;5;28;01mNone\u001b[39;00m,\n\u001b[0;32m     39\u001b[0m              preserve_punctuation: \u001b[38;5;28mbool\u001b[39m \u001b[38;5;241m=\u001b[39m \u001b[38;5;28;01mFalse\u001b[39;00m,\n\u001b[1;32m   (...)\u001b[0m\n\u001b[0;32m     43\u001b[0m              words_mismatch: WordMismatch \u001b[38;5;241m=\u001b[39m \u001b[38;5;124m'\u001b[39m\u001b[38;5;124mignore\u001b[39m\u001b[38;5;124m'\u001b[39m,\n\u001b[0;32m     44\u001b[0m              logger: Optional[Logger] \u001b[38;5;241m=\u001b[39m \u001b[38;5;28;01mNone\u001b[39;00m):\n\u001b[1;32m---> 45\u001b[0m     \u001b[38;5;28;43msuper\u001b[39;49m\u001b[43m(\u001b[49m\u001b[43m)\u001b[49m\u001b[38;5;241;43m.\u001b[39;49m\u001b[38;5;21;43m__init__\u001b[39;49m\u001b[43m(\u001b[49m\n\u001b[0;32m     46\u001b[0m \u001b[43m        \u001b[49m\u001b[43mlanguage\u001b[49m\u001b[43m,\u001b[49m\u001b[43m \u001b[49m\u001b[43mpunctuation_marks\u001b[49m\u001b[38;5;241;43m=\u001b[39;49m\u001b[43mpunctuation_marks\u001b[49m\u001b[43m,\u001b[49m\n\u001b[0;32m     47\u001b[0m \u001b[43m        \u001b[49m\u001b[43mpreserve_punctuation\u001b[49m\u001b[38;5;241;43m=\u001b[39;49m\u001b[43mpreserve_punctuation\u001b[49m\u001b[43m,\u001b[49m\u001b[43m \u001b[49m\u001b[43mlogger\u001b[49m\u001b[38;5;241;43m=\u001b[39;49m\u001b[43mlogger\u001b[49m\u001b[43m)\u001b[49m\n\u001b[0;32m     49\u001b[0m     \u001b[38;5;28mself\u001b[39m\u001b[38;5;241m.\u001b[39m_espeak\u001b[38;5;241m.\u001b[39mset_voice(language)\n\u001b[0;32m     50\u001b[0m     \u001b[38;5;28mself\u001b[39m\u001b[38;5;241m.\u001b[39m_with_stress \u001b[38;5;241m=\u001b[39m with_stress\n",
      "File \u001b[1;32mc:\\Users\\yash7\\AppData\\Local\\Programs\\Python\\Python311\\Lib\\site-packages\\phonemizer\\backend\\espeak\\base.py:39\u001b[0m, in \u001b[0;36mBaseEspeakBackend.__init__\u001b[1;34m(self, language, punctuation_marks, preserve_punctuation, logger)\u001b[0m\n\u001b[0;32m     35\u001b[0m \u001b[38;5;28;01mdef\u001b[39;00m \u001b[38;5;21m__init__\u001b[39m(\u001b[38;5;28mself\u001b[39m, language: \u001b[38;5;28mstr\u001b[39m,\n\u001b[0;32m     36\u001b[0m              punctuation_marks: Optional[Union[\u001b[38;5;28mstr\u001b[39m, Pattern]] \u001b[38;5;241m=\u001b[39m \u001b[38;5;28;01mNone\u001b[39;00m,\n\u001b[0;32m     37\u001b[0m              preserve_punctuation: \u001b[38;5;28mbool\u001b[39m \u001b[38;5;241m=\u001b[39m \u001b[38;5;28;01mFalse\u001b[39;00m,\n\u001b[0;32m     38\u001b[0m              logger: Optional[Logger] \u001b[38;5;241m=\u001b[39m \u001b[38;5;28;01mNone\u001b[39;00m):\n\u001b[1;32m---> 39\u001b[0m     \u001b[38;5;28;43msuper\u001b[39;49m\u001b[43m(\u001b[49m\u001b[43m)\u001b[49m\u001b[38;5;241;43m.\u001b[39;49m\u001b[38;5;21;43m__init__\u001b[39;49m\u001b[43m(\u001b[49m\n\u001b[0;32m     40\u001b[0m \u001b[43m        \u001b[49m\u001b[43mlanguage\u001b[49m\u001b[43m,\u001b[49m\n\u001b[0;32m     41\u001b[0m \u001b[43m        \u001b[49m\u001b[43mpunctuation_marks\u001b[49m\u001b[38;5;241;43m=\u001b[39;49m\u001b[43mpunctuation_marks\u001b[49m\u001b[43m,\u001b[49m\n\u001b[0;32m     42\u001b[0m \u001b[43m        \u001b[49m\u001b[43mpreserve_punctuation\u001b[49m\u001b[38;5;241;43m=\u001b[39;49m\u001b[43mpreserve_punctuation\u001b[49m\u001b[43m,\u001b[49m\n\u001b[0;32m     43\u001b[0m \u001b[43m        \u001b[49m\u001b[43mlogger\u001b[49m\u001b[38;5;241;43m=\u001b[39;49m\u001b[43mlogger\u001b[49m\u001b[43m)\u001b[49m\n\u001b[0;32m     45\u001b[0m     \u001b[38;5;28mself\u001b[39m\u001b[38;5;241m.\u001b[39m_espeak \u001b[38;5;241m=\u001b[39m EspeakWrapper()\n\u001b[0;32m     46\u001b[0m     \u001b[38;5;28mself\u001b[39m\u001b[38;5;241m.\u001b[39mlogger\u001b[38;5;241m.\u001b[39mdebug(\u001b[38;5;124m'\u001b[39m\u001b[38;5;124mloaded \u001b[39m\u001b[38;5;132;01m%s\u001b[39;00m\u001b[38;5;124m'\u001b[39m, \u001b[38;5;28mself\u001b[39m\u001b[38;5;241m.\u001b[39m_espeak\u001b[38;5;241m.\u001b[39mlibrary_path)\n",
      "File \u001b[1;32mc:\\Users\\yash7\\AppData\\Local\\Programs\\Python\\Python311\\Lib\\site-packages\\phonemizer\\backend\\base.py:77\u001b[0m, in \u001b[0;36mBaseBackend.__init__\u001b[1;34m(self, language, punctuation_marks, preserve_punctuation, logger)\u001b[0m\n\u001b[0;32m     75\u001b[0m \u001b[38;5;66;03m# ensure the backend is installed on the system\u001b[39;00m\n\u001b[0;32m     76\u001b[0m \u001b[38;5;28;01mif\u001b[39;00m \u001b[38;5;129;01mnot\u001b[39;00m \u001b[38;5;28mself\u001b[39m\u001b[38;5;241m.\u001b[39mis_available():\n\u001b[1;32m---> 77\u001b[0m     \u001b[38;5;28;01mraise\u001b[39;00m \u001b[38;5;167;01mRuntimeError\u001b[39;00m(  \u001b[38;5;66;03m# pragma: nocover\u001b[39;00m\n\u001b[0;32m     78\u001b[0m         \u001b[38;5;124m'\u001b[39m\u001b[38;5;132;01m{}\u001b[39;00m\u001b[38;5;124m not installed on your system\u001b[39m\u001b[38;5;124m'\u001b[39m\u001b[38;5;241m.\u001b[39mformat(\u001b[38;5;28mself\u001b[39m\u001b[38;5;241m.\u001b[39mname()))\n\u001b[0;32m     80\u001b[0m \u001b[38;5;28mself\u001b[39m\u001b[38;5;241m.\u001b[39m_logger \u001b[38;5;241m=\u001b[39m logger\n\u001b[0;32m     81\u001b[0m \u001b[38;5;28mself\u001b[39m\u001b[38;5;241m.\u001b[39m_logger\u001b[38;5;241m.\u001b[39minfo(\n\u001b[0;32m     82\u001b[0m     \u001b[38;5;124m'\u001b[39m\u001b[38;5;124minitializing backend \u001b[39m\u001b[38;5;132;01m%s\u001b[39;00m\u001b[38;5;124m-\u001b[39m\u001b[38;5;132;01m%s\u001b[39;00m\u001b[38;5;124m'\u001b[39m,\n\u001b[0;32m     83\u001b[0m     \u001b[38;5;28mself\u001b[39m\u001b[38;5;241m.\u001b[39mname(), \u001b[38;5;124m'\u001b[39m\u001b[38;5;124m.\u001b[39m\u001b[38;5;124m'\u001b[39m\u001b[38;5;241m.\u001b[39mjoin(\u001b[38;5;28mstr\u001b[39m(v) \u001b[38;5;28;01mfor\u001b[39;00m v \u001b[38;5;129;01min\u001b[39;00m \u001b[38;5;28mself\u001b[39m\u001b[38;5;241m.\u001b[39mversion()))\n",
      "\u001b[1;31mRuntimeError\u001b[0m: espeak not installed on your system"
     ]
    }
   ],
   "source": [
    "stn_tst = get_text(\"VITS is Awesome!\", hps)\n",
    "with torch.no_grad():\n",
    "    x_tst = stn_tst.cuda().unsqueeze(0)\n",
    "    x_tst_lengths = torch.LongTensor([stn_tst.size(0)]).cuda()\n",
    "    audio = net_g.infer(x_tst, x_tst_lengths, noise_scale=.667, noise_scale_w=0.8, length_scale=1)[0][0,0].data.cpu().float().numpy()\n",
    "ipd.display(ipd.Audio(audio, rate=hps.data.sampling_rate, normalize=False))"
   ]
  },
  {
   "cell_type": "markdown",
   "metadata": {},
   "source": [
    "## VCTK"
   ]
  },
  {
   "cell_type": "code",
   "execution_count": null,
   "metadata": {},
   "outputs": [],
   "source": [
    "hps = utils.get_hparams_from_file(\"./configs/vctk_base.json\")"
   ]
  },
  {
   "cell_type": "code",
   "execution_count": null,
   "metadata": {},
   "outputs": [],
   "source": [
    "net_g = SynthesizerTrn(\n",
    "    len(symbols),\n",
    "    hps.data.filter_length // 2 + 1,\n",
    "    hps.train.segment_size // hps.data.hop_length,\n",
    "    n_speakers=hps.data.n_speakers,\n",
    "    **hps.model).cuda()\n",
    "_ = net_g.eval()\n",
    "\n",
    "_ = utils.load_checkpoint(\"/path/to/pretrained_vctk.pth\", net_g, None)"
   ]
  },
  {
   "cell_type": "code",
   "execution_count": null,
   "metadata": {},
   "outputs": [],
   "source": [
    "stn_tst = get_text(\"VITS is Awesome!\", hps)\n",
    "with torch.no_grad():\n",
    "    x_tst = stn_tst.cuda().unsqueeze(0)\n",
    "    x_tst_lengths = torch.LongTensor([stn_tst.size(0)]).cuda()\n",
    "    sid = torch.LongTensor([4]).cuda()\n",
    "    audio = net_g.infer(x_tst, x_tst_lengths, sid=sid, noise_scale=.667, noise_scale_w=0.8, length_scale=1)[0][0,0].data.cpu().float().numpy()\n",
    "ipd.display(ipd.Audio(audio, rate=hps.data.sampling_rate, normalize=False))"
   ]
  },
  {
   "cell_type": "markdown",
   "metadata": {},
   "source": [
    "### Voice Conversion"
   ]
  },
  {
   "cell_type": "code",
   "execution_count": null,
   "metadata": {},
   "outputs": [],
   "source": [
    "dataset = TextAudioSpeakerLoader(hps.data.validation_files, hps.data)\n",
    "collate_fn = TextAudioSpeakerCollate()\n",
    "loader = DataLoader(dataset, num_workers=8, shuffle=False,\n",
    "    batch_size=1, pin_memory=True,\n",
    "    drop_last=True, collate_fn=collate_fn)\n",
    "data_list = list(loader)"
   ]
  },
  {
   "cell_type": "code",
   "execution_count": null,
   "metadata": {},
   "outputs": [],
   "source": [
    "with torch.no_grad():\n",
    "    x, x_lengths, spec, spec_lengths, y, y_lengths, sid_src = [x.cuda() for x in data_list[0]]\n",
    "    sid_tgt1 = torch.LongTensor([1]).cuda()\n",
    "    sid_tgt2 = torch.LongTensor([2]).cuda()\n",
    "    sid_tgt3 = torch.LongTensor([4]).cuda()\n",
    "    audio1 = net_g.voice_conversion(spec, spec_lengths, sid_src=sid_src, sid_tgt=sid_tgt1)[0][0,0].data.cpu().float().numpy()\n",
    "    audio2 = net_g.voice_conversion(spec, spec_lengths, sid_src=sid_src, sid_tgt=sid_tgt2)[0][0,0].data.cpu().float().numpy()\n",
    "    audio3 = net_g.voice_conversion(spec, spec_lengths, sid_src=sid_src, sid_tgt=sid_tgt3)[0][0,0].data.cpu().float().numpy()\n",
    "print(\"Original SID: %d\" % sid_src.item())\n",
    "ipd.display(ipd.Audio(y[0].cpu().numpy(), rate=hps.data.sampling_rate, normalize=False))\n",
    "print(\"Converted SID: %d\" % sid_tgt1.item())\n",
    "ipd.display(ipd.Audio(audio1, rate=hps.data.sampling_rate, normalize=False))\n",
    "print(\"Converted SID: %d\" % sid_tgt2.item())\n",
    "ipd.display(ipd.Audio(audio2, rate=hps.data.sampling_rate, normalize=False))\n",
    "print(\"Converted SID: %d\" % sid_tgt3.item())\n",
    "ipd.display(ipd.Audio(audio3, rate=hps.data.sampling_rate, normalize=False))"
   ]
  }
 ],
 "metadata": {
  "kernelspec": {
   "display_name": "Python 3",
   "language": "python",
   "name": "python3"
  },
  "language_info": {
   "codemirror_mode": {
    "name": "ipython",
    "version": 3
   },
   "file_extension": ".py",
   "mimetype": "text/x-python",
   "name": "python",
   "nbconvert_exporter": "python",
   "pygments_lexer": "ipython3",
   "version": "3.11.5"
  }
 },
 "nbformat": 4,
 "nbformat_minor": 4
}
